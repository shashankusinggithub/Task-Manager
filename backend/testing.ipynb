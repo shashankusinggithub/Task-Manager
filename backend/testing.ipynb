{
 "cells": [
  {
   "cell_type": "code",
   "execution_count": 1,
   "metadata": {},
   "outputs": [
    {
     "data": {
      "text/plain": [
       "True"
      ]
     },
     "execution_count": 1,
     "metadata": {},
     "output_type": "execute_result"
    }
   ],
   "source": [
    "from bson.objectid import ObjectId\n",
    "import unittest\n",
    "\n",
    "new_oid = ObjectId()\n",
    "ObjectId.is_valid(new_oid) # Output: ObjectId('...') (a unique ObjectId)\n",
    "\n",
    "# unittest.TestCase.assertFalse(unittest.TestCase ,ObjectId.is_valid(new_oid)) "
   ]
  },
  {
   "cell_type": "code",
   "execution_count": 6,
   "metadata": {},
   "outputs": [],
   "source": [
    "temp = [\n",
    "    {'_id': ObjectId('668d1ff6f48165750aea056a'), 'description': 'df', 'status': 'In Progress', 'title': 'df', 'user_id': '668d1fd8f48165750aea0569'},\n",
    "    {'_id': ObjectId('668d2036f48165750aea056b'), 'description': 'df', 'status': 'In Progress', 'title': 'df', 'user_id': '668d1fd8f48165750aea0569'},\n",
    "    {'_id': ObjectId('668d227c558a4c974ac20b71'), 'description': 'df', 'status': 'In Progress', 'title': 'df', 'user_id': '668d1fd8f48165750aea0569'},\n",
    "    {'_id': ObjectId('668d2287558a4c974ac20b72'), 'description': 'df', 'status': 'In Progress', 'title': 'df', 'user_id': '668d1fd8f48165750aea0569'},\n",
    "    {'_id': ObjectId('668d2289558a4c974ac20b73'), 'description': 'df', 'status': 'In Progress', 'title': 'df', 'user_id': '668d1fd8f48165750aea0569'}\n",
    "]"
   ]
  },
  {
   "cell_type": "code",
   "execution_count": 14,
   "metadata": {},
   "outputs": [],
   "source": [
    "import json\n",
    "\n",
    "\n",
    "new = json.dumps(temp)"
   ]
  },
  {
   "cell_type": "code",
   "execution_count": 19,
   "metadata": {},
   "outputs": [
    {
     "name": "stdout",
     "output_type": "stream",
     "text": [
      "[\n",
      "  {\n",
      "    \"_id\": \"668d1ff6f48165750aea056a\",\n",
      "    \"description\": \"df\",\n",
      "    \"status\": \"In Progress\",\n",
      "    \"title\": \"df\",\n",
      "    \"user_id\": \"668d1fd8f48165750aea0569\"\n",
      "  },\n",
      "  {\n",
      "    \"_id\": \"668d2036f48165750aea056b\",\n",
      "    \"description\": \"df\",\n",
      "    \"status\": \"In Progress\",\n",
      "    \"title\": \"df\",\n",
      "    \"user_id\": \"668d1fd8f48165750aea0569\"\n",
      "  },\n",
      "  {\n",
      "    \"_id\": \"668d227c558a4c974ac20b71\",\n",
      "    \"description\": \"df\",\n",
      "    \"status\": \"In Progress\",\n",
      "    \"title\": \"df\",\n",
      "    \"user_id\": \"668d1fd8f48165750aea0569\"\n",
      "  },\n",
      "  {\n",
      "    \"_id\": \"668d2287558a4c974ac20b72\",\n",
      "    \"description\": \"df\",\n",
      "    \"status\": \"In Progress\",\n",
      "    \"title\": \"df\",\n",
      "    \"user_id\": \"668d1fd8f48165750aea0569\"\n",
      "  },\n",
      "  {\n",
      "    \"_id\": \"668d2289558a4c974ac20b73\",\n",
      "    \"description\": \"df\",\n",
      "    \"status\": \"In Progress\",\n",
      "    \"title\": \"df\",\n",
      "    \"user_id\": \"668d1fd8f48165750aea0569\"\n",
      "  }\n",
      "]\n"
     ]
    }
   ],
   "source": [
    "import json\n",
    "from bson import ObjectId\n",
    "\n",
    "# Sample data\n",
    "temp = [\n",
    "    {'_id': ObjectId('668d1ff6f48165750aea056a'), 'description': 'df', 'status': 'In Progress', 'title': 'df', 'user_id': ObjectId('668d1fd8f48165750aea0569')},\n",
    "    {'_id': ObjectId('668d2036f48165750aea056b'), 'description': 'df', 'status': 'In Progress', 'title': 'df', 'user_id': ObjectId('668d1fd8f48165750aea0569')},\n",
    "    {'_id': ObjectId('668d227c558a4c974ac20b71'), 'description': 'df', 'status': 'In Progress', 'title': 'df', 'user_id': ObjectId('668d1fd8f48165750aea0569')},\n",
    "    {'_id': ObjectId('668d2287558a4c974ac20b72'), 'description': 'df', 'status': 'In Progress', 'title': 'df', 'user_id': ObjectId('668d1fd8f48165750aea0569')},\n",
    "    {'_id': ObjectId('668d2289558a4c974ac20b73'), 'description': 'df', 'status': 'In Progress', 'title': 'df', 'user_id': ObjectId('668d1fd8f48165750aea0569')}\n",
    "]\n",
    "\n",
    "# Convert ObjectId to string in the list of dictionaries\n",
    "for item in temp:\n",
    "    item['_id'] = str(item['_id'])\n",
    "    item['user_id'] = str(item['user_id'])\n",
    "\n",
    "# Convert to JSON string\n",
    "json_str = json.dumps(temp, indent=2)\n",
    "\n",
    "print(json_str)"
   ]
  }
 ],
 "metadata": {
  "kernelspec": {
   "display_name": "env-flask",
   "language": "python",
   "name": "python3"
  },
  "language_info": {
   "codemirror_mode": {
    "name": "ipython",
    "version": 3
   },
   "file_extension": ".py",
   "mimetype": "text/x-python",
   "name": "python",
   "nbconvert_exporter": "python",
   "pygments_lexer": "ipython3",
   "version": "3.11.9"
  }
 },
 "nbformat": 4,
 "nbformat_minor": 2
}
